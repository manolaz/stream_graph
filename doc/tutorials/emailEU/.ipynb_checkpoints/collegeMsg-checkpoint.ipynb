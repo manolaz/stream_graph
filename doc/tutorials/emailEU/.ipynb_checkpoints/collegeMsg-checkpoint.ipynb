{
 "cells": [
  {
   "cell_type": "markdown",
   "metadata": {},
   "source": [
    "# Stream-Graph Tutorial"
   ]
  },
  {
   "cell_type": "markdown",
   "metadata": {},
   "source": [
    "We will first load a very common dataset known as [CollegeMsg](https://snap.stanford.edu/data/CollegeMsg.html)\n",
    "\n",
    "This dataset is comprised of private messages interactions commited on an online social network at the University of California, Irvine. Users could search the network for others and then initiate conversation based on profile information. An edge $(u, v, t)$ means that user $u$ sent a private message to user $v$ at time $t$."
   ]
  },
  {
   "cell_type": "code",
   "execution_count": 1,
   "metadata": {},
   "outputs": [
    {
     "data": {
      "text/html": [
       "<div>\n",
       "<style scoped>\n",
       "    .dataframe tbody tr th:only-of-type {\n",
       "        vertical-align: middle;\n",
       "    }\n",
       "\n",
       "    .dataframe tbody tr th {\n",
       "        vertical-align: top;\n",
       "    }\n",
       "\n",
       "    .dataframe thead th {\n",
       "        text-align: right;\n",
       "    }\n",
       "</style>\n",
       "<table border=\"1\" class=\"dataframe\">\n",
       "  <thead>\n",
       "    <tr style=\"text-align: right;\">\n",
       "      <th></th>\n",
       "      <th>u</th>\n",
       "      <th>v</th>\n",
       "      <th>ts</th>\n",
       "    </tr>\n",
       "  </thead>\n",
       "  <tbody>\n",
       "    <tr>\n",
       "      <th>0</th>\n",
       "      <td>1</td>\n",
       "      <td>2</td>\n",
       "      <td>1082040961</td>\n",
       "    </tr>\n",
       "    <tr>\n",
       "      <th>1</th>\n",
       "      <td>3</td>\n",
       "      <td>4</td>\n",
       "      <td>1082155839</td>\n",
       "    </tr>\n",
       "    <tr>\n",
       "      <th>2</th>\n",
       "      <td>5</td>\n",
       "      <td>2</td>\n",
       "      <td>1082414391</td>\n",
       "    </tr>\n",
       "    <tr>\n",
       "      <th>3</th>\n",
       "      <td>6</td>\n",
       "      <td>7</td>\n",
       "      <td>1082439619</td>\n",
       "    </tr>\n",
       "    <tr>\n",
       "      <th>4</th>\n",
       "      <td>8</td>\n",
       "      <td>7</td>\n",
       "      <td>1082439756</td>\n",
       "    </tr>\n",
       "  </tbody>\n",
       "</table>\n",
       "</div>"
      ],
      "text/plain": [
       "   u  v          ts\n",
       "0  1  2  1082040961\n",
       "1  3  4  1082155839\n",
       "2  5  2  1082414391\n",
       "3  6  7  1082439619\n",
       "4  8  7  1082439756"
      ]
     },
     "execution_count": 1,
     "metadata": {},
     "output_type": "execute_result"
    }
   ],
   "source": [
    "import pandas as pd\n",
    "df = pd.read_csv('collegeMsg.txt', sep=' ', names=['u', 'v', 'ts'])\n",
    "df.head()"
   ]
  },
  {
   "cell_type": "markdown",
   "metadata": {},
   "source": [
    "Which consists of 59835 interactions"
   ]
  },
  {
   "cell_type": "code",
   "execution_count": 2,
   "metadata": {},
   "outputs": [
    {
     "data": {
      "text/plain": [
       "59835"
      ]
     },
     "execution_count": 2,
     "metadata": {},
     "output_type": "execute_result"
    }
   ],
   "source": [
    "df.shape[0]"
   ]
  },
  {
   "cell_type": "markdown",
   "metadata": {},
   "source": [
    "## Stream-Graph Library\n",
    "\n",
    "What the above dataset expresses is what in our library's terminology is called the **TemporalLinkSet**.  \n",
    "Here we will initiliaze a temporal-link-set of instantaneous links, in discrete-time.  \n",
    "We don't know if our dataset contains duplicates so we want to signify that to our class-constructor, while we don't want to apply a further sorting to our values."
   ]
  },
  {
   "cell_type": "code",
   "execution_count": 3,
   "metadata": {},
   "outputs": [],
   "source": [
    "from stream_graph import ITemporalLinkSetDF\n",
    "ls = ITemporalLinkSetDF(df, no_duplicates=False, discrete=True, sort_by=None)"
   ]
  },
  {
   "cell_type": "markdown",
   "metadata": {},
   "source": [
    "Our first operation we can have, is calculating the number of nodes that appear inside our temporal linkset."
   ]
  },
  {
   "cell_type": "code",
   "execution_count": 4,
   "metadata": {},
   "outputs": [
    {
     "data": {
      "text/plain": [
       "1899"
      ]
     },
     "execution_count": 4,
     "metadata": {},
     "output_type": "execute_result"
    }
   ],
   "source": [
    "ls.nodeset.size"
   ]
  },
  {
   "cell_type": "markdown",
   "metadata": {},
   "source": [
    "Where not all their interactions are distinct."
   ]
  },
  {
   "cell_type": "code",
   "execution_count": 5,
   "metadata": {},
   "outputs": [
    {
     "data": {
      "text/plain": [
       "59798"
      ]
     },
     "execution_count": 5,
     "metadata": {},
     "output_type": "execute_result"
    }
   ],
   "source": [
    "ls.size"
   ]
  },
  {
   "cell_type": "markdown",
   "metadata": {},
   "source": [
    "### Measures\n",
    "So in order to see which users **send** most-messages, we can jus calculate and sort the out-degree."
   ]
  },
  {
   "cell_type": "code",
   "execution_count": 6,
   "metadata": {},
   "outputs": [
    {
     "data": {
      "text/html": [
       "<div>\n",
       "<style scoped>\n",
       "    .dataframe tbody tr th:only-of-type {\n",
       "        vertical-align: middle;\n",
       "    }\n",
       "\n",
       "    .dataframe tbody tr th {\n",
       "        vertical-align: top;\n",
       "    }\n",
       "\n",
       "    .dataframe thead th {\n",
       "        text-align: right;\n",
       "    }\n",
       "</style>\n",
       "<table border=\"1\" class=\"dataframe\">\n",
       "  <thead>\n",
       "    <tr style=\"text-align: right;\">\n",
       "      <th></th>\n",
       "      <th>out-degree</th>\n",
       "    </tr>\n",
       "    <tr>\n",
       "      <th>user</th>\n",
       "      <th></th>\n",
       "    </tr>\n",
       "  </thead>\n",
       "  <tbody>\n",
       "    <tr>\n",
       "      <th>9</th>\n",
       "      <td>1091</td>\n",
       "    </tr>\n",
       "    <tr>\n",
       "      <th>323</th>\n",
       "      <td>1011</td>\n",
       "    </tr>\n",
       "    <tr>\n",
       "      <th>12</th>\n",
       "      <td>993</td>\n",
       "    </tr>\n",
       "    <tr>\n",
       "      <th>103</th>\n",
       "      <td>739</td>\n",
       "    </tr>\n",
       "    <tr>\n",
       "      <th>105</th>\n",
       "      <td>685</td>\n",
       "    </tr>\n",
       "  </tbody>\n",
       "</table>\n",
       "</div>"
      ],
      "text/plain": [
       "      out-degree\n",
       "user            \n",
       "9           1091\n",
       "323         1011\n",
       "12           993\n",
       "103          739\n",
       "105          685"
      ]
     },
     "execution_count": 6,
     "metadata": {},
     "output_type": "execute_result"
    }
   ],
   "source": [
    "DF = pd.DataFrame(list(ls.degree_of(direction='out')), columns=['user', 'out-degree'])\n",
    "DF = DF.set_index('user').sort_values(by=['out-degree'], ascending=False)\n",
    "DF.head(5)"
   ]
  },
  {
   "cell_type": "markdown",
   "metadata": {},
   "source": [
    "And let's do the same for those users who **receive** the most-messages, we can just calculate and sort the in-degree."
   ]
  },
  {
   "cell_type": "code",
   "execution_count": 7,
   "metadata": {},
   "outputs": [
    {
     "data": {
      "text/html": [
       "<div>\n",
       "<style scoped>\n",
       "    .dataframe tbody tr th:only-of-type {\n",
       "        vertical-align: middle;\n",
       "    }\n",
       "\n",
       "    .dataframe tbody tr th {\n",
       "        vertical-align: top;\n",
       "    }\n",
       "\n",
       "    .dataframe thead th {\n",
       "        text-align: right;\n",
       "    }\n",
       "</style>\n",
       "<table border=\"1\" class=\"dataframe\">\n",
       "  <thead>\n",
       "    <tr style=\"text-align: right;\">\n",
       "      <th></th>\n",
       "      <th>in-degree</th>\n",
       "    </tr>\n",
       "    <tr>\n",
       "      <th>user</th>\n",
       "      <th></th>\n",
       "    </tr>\n",
       "  </thead>\n",
       "  <tbody>\n",
       "    <tr>\n",
       "      <th>1624</th>\n",
       "      <td>558</td>\n",
       "    </tr>\n",
       "    <tr>\n",
       "      <th>323</th>\n",
       "      <td>534</td>\n",
       "    </tr>\n",
       "    <tr>\n",
       "      <th>32</th>\n",
       "      <td>500</td>\n",
       "    </tr>\n",
       "    <tr>\n",
       "      <th>103</th>\n",
       "      <td>440</td>\n",
       "    </tr>\n",
       "    <tr>\n",
       "      <th>372</th>\n",
       "      <td>427</td>\n",
       "    </tr>\n",
       "  </tbody>\n",
       "</table>\n",
       "</div>"
      ],
      "text/plain": [
       "      in-degree\n",
       "user           \n",
       "1624        558\n",
       "323         534\n",
       "32          500\n",
       "103         440\n",
       "372         427"
      ]
     },
     "execution_count": 7,
     "metadata": {},
     "output_type": "execute_result"
    }
   ],
   "source": [
    "DF = pd.DataFrame(list(ls.degree_of(direction='in')), columns=['user', 'in-degree']).set_index('user')\n",
    "DF.sort_values(by=['in-degree'], ascending=False).head(5)"
   ]
  },
  {
   "cell_type": "markdown",
   "metadata": {},
   "source": [
    "In order to see which communication between two users lasted the most, what you need is known as the duration of the link.  \n",
    "So let's calculate the durations."
   ]
  },
  {
   "cell_type": "code",
   "execution_count": 8,
   "metadata": {},
   "outputs": [],
   "source": [
    "data = [(a, b, d) for ((a, b), d) in ls.duration_of(direction='both')]\n",
    "DF = pd.DataFrame(data, columns=['user-a', 'user-b', 'duration']).set_index(['user-a', 'user-b'])"
   ]
  },
  {
   "cell_type": "markdown",
   "metadata": {},
   "source": [
    "And plot the *max-5*."
   ]
  },
  {
   "cell_type": "code",
   "execution_count": 9,
   "metadata": {
    "scrolled": true
   },
   "outputs": [
    {
     "data": {
      "text/html": [
       "<div>\n",
       "<style scoped>\n",
       "    .dataframe tbody tr th:only-of-type {\n",
       "        vertical-align: middle;\n",
       "    }\n",
       "\n",
       "    .dataframe tbody tr th {\n",
       "        vertical-align: top;\n",
       "    }\n",
       "\n",
       "    .dataframe thead th {\n",
       "        text-align: right;\n",
       "    }\n",
       "</style>\n",
       "<table border=\"1\" class=\"dataframe\">\n",
       "  <thead>\n",
       "    <tr style=\"text-align: right;\">\n",
       "      <th></th>\n",
       "      <th></th>\n",
       "      <th>duration</th>\n",
       "    </tr>\n",
       "    <tr>\n",
       "      <th>user-a</th>\n",
       "      <th>user-b</th>\n",
       "      <th></th>\n",
       "    </tr>\n",
       "  </thead>\n",
       "  <tbody>\n",
       "    <tr>\n",
       "      <th>1168</th>\n",
       "      <th>1624</th>\n",
       "      <td>184</td>\n",
       "    </tr>\n",
       "    <tr>\n",
       "      <th>398</th>\n",
       "      <th>1624</th>\n",
       "      <td>166</td>\n",
       "    </tr>\n",
       "    <tr>\n",
       "      <th>12</th>\n",
       "      <th>1312</th>\n",
       "      <td>164</td>\n",
       "    </tr>\n",
       "    <tr>\n",
       "      <th>454</th>\n",
       "      <th>1043</th>\n",
       "      <td>154</td>\n",
       "    </tr>\n",
       "    <tr>\n",
       "      <th>105</th>\n",
       "      <th>1624</th>\n",
       "      <td>141</td>\n",
       "    </tr>\n",
       "  </tbody>\n",
       "</table>\n",
       "</div>"
      ],
      "text/plain": [
       "               duration\n",
       "user-a user-b          \n",
       "1168   1624         184\n",
       "398    1624         166\n",
       "12     1312         164\n",
       "454    1043         154\n",
       "105    1624         141"
      ]
     },
     "execution_count": 9,
     "metadata": {},
     "output_type": "execute_result"
    }
   ],
   "source": [
    "DF.sort_values(by=['duration'], ascending=False).head(5)"
   ]
  },
  {
   "cell_type": "markdown",
   "metadata": {},
   "source": [
    "## Measures of centrality\n",
    "### Closeness"
   ]
  },
  {
   "cell_type": "markdown",
   "metadata": {},
   "source": [
    "A simple measure of centrality is known as closeness.\n",
    "In the standard graph, closeness measures the amount that a node is 'closer' to all the others in the graph.\n",
    "A definition of closeness inside graph theory of a node $u$ is:\n",
    "$$C(u)=\\sum_{v \\neq u} \\frac{1}{d(u, v)}$$\n",
    "where, $d(u, v)$ is the shortest-path between $u$ and $v$.\n",
    "\n",
    "Stream-Graphs, are graphs that have a temporal direction and as so the closeness of a node $u$, **at time** $t$ is defined as:\n",
    "$$C_{t}(u)=\\sum_{v \\neq u} \\frac{1}{d_{t}(u, v)}$$\n",
    "where, $d_{t}(u, v)$ is the shortest-path between $u$ and $v$, at time $t$.\n",
    "\n",
    "So let's the calculate timestamp where the closeness of each node becomes maximum (without taking direction into account).  \n",
    "Execution time in this case, is a little bit higher."
   ]
  },
  {
   "cell_type": "code",
   "execution_count": null,
   "metadata": {},
   "outputs": [],
   "source": [
    "DF = pd.DataFrame([(u, mxc, ts) for u, (mxc, ts) in ls.closeness(t='max', direction='both')], columns=['user', 'max-closeness', 'ts']).set_index('user')"
   ]
  },
  {
   "cell_type": "markdown",
   "metadata": {},
   "source": [
    "and print the top 20 most-significant values:"
   ]
  },
  {
   "cell_type": "code",
   "execution_count": null,
   "metadata": {},
   "outputs": [],
   "source": [
    "DF.sort_values(by=['max-closeness', 'ts'], ascending=False).head(20)"
   ]
  },
  {
   "cell_type": "markdown",
   "metadata": {},
   "source": [
    "Now let's plot the closeness-profile of user 1713."
   ]
  },
  {
   "cell_type": "code",
   "execution_count": null,
   "metadata": {},
   "outputs": [],
   "source": [
    "from bokeh.io import output_notebook\n",
    "output_notebook()"
   ]
  },
  {
   "cell_type": "code",
   "execution_count": null,
   "metadata": {},
   "outputs": [],
   "source": [
    "t, value = zip(*((t, v) for t, v in ls.closeness(u=1713, direction='both') if v>.0001))"
   ]
  },
  {
   "cell_type": "code",
   "execution_count": null,
   "metadata": {},
   "outputs": [],
   "source": [
    "from bokeh.plotting import figure, show\n",
    "\n",
    "p = figure()\n",
    "p.scatter(t, value, line_color=None)\n",
    "\n",
    "show(p)"
   ]
  },
  {
   "cell_type": "markdown",
   "metadata": {},
   "source": [
    "And maybe the closeness at that point in time."
   ]
  },
  {
   "cell_type": "code",
   "execution_count": null,
   "metadata": {},
   "outputs": [],
   "source": [
    "DF = pd.DataFrame([(u, round(cl, 2)) for u, cl in ls.closeness(t=1089632769, direction='both') if round(cl, 2) != .0], columns=['user', 'closeness'])"
   ]
  },
  {
   "cell_type": "code",
   "execution_count": null,
   "metadata": {},
   "outputs": [],
   "source": [
    "def to_set(x):\n",
    "    return set(x)\n",
    "\n",
    "DF.groupby('closeness')['user'].agg({'size': len, 'group': to_set}).sort_values(by=['closeness', 'size'], ascending=False)"
   ]
  },
  {
   "cell_type": "markdown",
   "metadata": {},
   "source": [
    "## Ego-Betweenness\n",
    "Another measure of centrality is known as ego-betweennesss. Initially the ego-betweeness of a node $e$ is defined as:\n",
    "$$ C(e)=\\sum_{i, j \\in \\mathcal{N}_{e} \\times \\mathcal{N}_{e}} \\frac{g_{i j}(e)}{g_{i j}} $$\n",
    "where $g_{i j}$ stands for the number of shortest paths between $i$ and $j$, and $g_{i j}(e)$ for those that pass through $e$.  \n",
    "\n",
    "\n",
    "Now concerning **temporal** graphs the ego-betweeness of a node $e$ at time $t$ is defined as:\n",
    "$$C(e, \\tau)=\\sum_{i, j \\in \\mathcal{N}_{e} \\times \\mathcal{N}_{e}} \\frac{p_{i j}(e, \\tau)}{p_{i j}(\\tau)}$$\n",
    "where $p_{ij}(\\tau)$ is the number of most recent paths of length at most 2 from $i$ to $j$ at time $\\tau$ and $p_{ij}(e, \\tau)$ is the number of these paths that go through $e$.\n",
    "\n",
    "So let's find out how much is the betweenes-centrality of all nodes at this obscure timestamp 1089632769.  \n",
    "Execution time in this case, will be much higher.\n",
    "#### Note, that in order to calculate the centrality at a certain time, our algorithm has it that this should be first calculated for all timestamps"
   ]
  },
  {
   "cell_type": "code",
   "execution_count": null,
   "metadata": {},
   "outputs": [],
   "source": [
    "DF = pd.DataFrame([(u, bt) for u, bt in ls.ego_betweeness(t=1089632769, direction='both')], columns=['user', 'betweeness'])"
   ]
  },
  {
   "cell_type": "code",
   "execution_count": null,
   "metadata": {},
   "outputs": [],
   "source": [
    "DF.groupby('betweeness')['user'].agg({'size': len, 'group': to_set}).sort_values(by=['betweeness', 'size'], ascending=False)"
   ]
  },
  {
   "cell_type": "markdown",
   "metadata": {},
   "source": [
    "## Cliques\n",
    "A clique in a classic graph is defined as a set of nodes, where there exists a link between all pairs of nodes (subgraphs of density 1).\n",
    "\n",
    "![image info](./graph-clique.png)\n",
    "\n",
    "In a link-stream of continuous duration, a clique is defined as subset of the timeset and a subset of the nodes, where links exist between everybody.\n",
    "\n",
    "![image info](./link-stream-clique.png)\n",
    "\n",
    "### Delta-Cliques\n",
    "Next we want to calculate what is called \"Delta-Cliques\".\n",
    "\n",
    "The logic behind this is the following. We add $\\pm \\frac{\\delta}{2}$ duration to each interaction and we calculate under this setting what are the maximum cliques, that is the maximum time where all nodes in a subset of all the users are interacting with each other. This can signify a group communication under a certain period."
   ]
  },
  {
   "cell_type": "code",
   "execution_count": null,
   "metadata": {
    "scrolled": false
   },
   "outputs": [],
   "source": [
    "# Delta cliques inside a twenty minute period\n",
    "mxc = ls.get_maximal_cliques(direction='both', delta=1200)"
   ]
  },
  {
   "cell_type": "markdown",
   "metadata": {},
   "source": [
    "And now let's sort and print the ten biggest delta-cliques."
   ]
  },
  {
   "cell_type": "code",
   "execution_count": null,
   "metadata": {},
   "outputs": [],
   "source": [
    "# Efficient: whenever an actor exists it connects with all the other actors existing\n",
    "sorted_cliques = sorted(list(mxc), key=lambda x:(len(x[0]), x[1][1] - x[1][0]), reverse=True)\n",
    "sorted_cliques[:10]"
   ]
  }
 ],
 "metadata": {
  "kernelspec": {
   "display_name": "Python 3",
   "language": "python",
   "name": "python3"
  },
  "language_info": {
   "codemirror_mode": {
    "name": "ipython",
    "version": 3
   },
   "file_extension": ".py",
   "mimetype": "text/x-python",
   "name": "python",
   "nbconvert_exporter": "python",
   "pygments_lexer": "ipython3",
   "version": "3.7.2"
  }
 },
 "nbformat": 4,
 "nbformat_minor": 2
}

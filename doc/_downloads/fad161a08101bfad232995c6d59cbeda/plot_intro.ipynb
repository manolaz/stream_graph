{
  "cells": [
    {
      "cell_type": "code",
      "execution_count": null,
      "metadata": {
        "collapsed": false
      },
      "outputs": [],
      "source": [
        "%matplotlib inline"
      ]
    },
    {
      "cell_type": "markdown",
      "metadata": {},
      "source": [
        "\n# Initialize and print a simple stream-graph\n\n\nAn example plot of a :class:`stream_graph.StreamGraph` made from a combination of :class:`stream_graph.NodeSetS`, :class:`stream_graph.TimeSetDF` , :class:`stream_graph.TemporalNodeSetDF`, :class:`stream_graph.LinkStreamDF`:\n\n![](images/sphx_glr_plot_intro_001.png)\n\n   :align: center\n\nusing the :class:`stream_graph.Visualizer`.\n\n\n"
      ]
    },
    {
      "cell_type": "code",
      "execution_count": null,
      "metadata": {
        "collapsed": false
      },
      "outputs": [],
      "source": [
        "from __future__ import print_function\nprint(__doc__)\n\nfrom stream_graph import Visualizer, TemporalLinkSetDF, NodeSetS, TemporalNodeSetDF, TimeSetDF, StreamGraph\n\nnodeset = NodeSetS({1, 2, 3})\ntimeset = TimeSetDF([(0, 10)])\ntemporal_nodeset = TemporalNodeSetDF([(1, 1, 9), (2, 2, 5), (2, 5.5, 8.5)])\ntemporal_linkset = TemporalLinkSetDF([(1, 2, 2, 4), (1, 2, 3, 5), (1, 2, 6, 8)] , disjoint_intervals=False)\nstream_graph = StreamGraph(nodeset, timeset, temporal_nodeset, temporal_linkset)\n\n# Visualize svg\nVisualizer(stream_graph, 'plot_intro.svg', image_type='svg').produce()\n\n# Convert to PNG\nfrom cairosvg import svg2png\nfrom shutil import move\nfilename = '../doc/auto_examples/images/sphx_glr_plot_intro_001.png'\nsvg2png(url='plot_intro.svg', write_to=filename, parent_height=160, parent_width=453)\n\n# Remove svg\nfrom os import remove\nremove('plot_intro.svg')"
      ]
    }
  ],
  "metadata": {
    "kernelspec": {
      "display_name": "Python 3",
      "language": "python",
      "name": "python3"
    },
    "language_info": {
      "codemirror_mode": {
        "name": "ipython",
        "version": 3
      },
      "file_extension": ".py",
      "mimetype": "text/x-python",
      "name": "python",
      "nbconvert_exporter": "python",
      "pygments_lexer": "ipython3",
      "version": "3.6.8"
    }
  },
  "nbformat": 4,
  "nbformat_minor": 0
}